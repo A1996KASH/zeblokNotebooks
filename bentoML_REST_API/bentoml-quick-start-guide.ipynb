{
 "cells": [
  {
   "cell_type": "markdown",
   "metadata": {},
   "source": [
    "# Getting Started with BentoML\n",
    "\n",
    "[BentoML](http://bentoml.ai) is an open-source framework for machine learning **model serving**, aiming to **bridge the gap between Data Science and DevOps**.\n",
    "\n",
    "Data Scientists can easily package their models trained with any ML framework using BentoMl and reproduce the model for serving in production. BentoML helps with managing packaged models in the BentoML format, and allows DevOps to deploy them as online API serving endpoints or offline batch inference jobs, on any cloud platform.\n",
    "\n",
    "This getting started guide demonstrates how to use BentoML to serve a sklearn modeld via a REST API server, and then containerize the model server for production deployment.\n",
    "\n",
    "![Impression](https://www.google-analytics.com/collect?v=1&tid=UA-112879361-3&cid=555&t=event&ec=guides&ea=bentoml-quick-start-guide&dt=bentoml-quick-start-guide)\n",
    "\n",
    "BentoML requires python 3.6 or above, install dependencies via `pip`:"
   ]
  },
  {
   "cell_type": "code",
   "execution_count": 1,
   "metadata": {},
   "outputs": [],
   "source": [
    "# Install PyPI packages required in this guide, including BentoML\n",
    "!pip install -q --pre bentoml  # install preview version of BentoML for this guide\n",
    "!pip install -q 'scikit-learn>=0.23.2' 'pandas>=1.1.1'"
   ]
  },
  {
   "cell_type": "markdown",
   "metadata": {},
   "source": [
    "Before starting, let's prepare a trained model for serving with BentoML. Train a classifier model on the [Iris data set](https://en.wikipedia.org/wiki/Iris_flower_data_set):"
   ]
  },
  {
   "cell_type": "code",
   "execution_count": 2,
   "metadata": {},
   "outputs": [
    {
     "data": {
      "text/plain": [
       "SVC()"
      ]
     },
     "execution_count": 2,
     "metadata": {},
     "output_type": "execute_result"
    }
   ],
   "source": [
    "from sklearn import svm\n",
    "from sklearn import datasets\n",
    "\n",
    "# Load training data\n",
    "iris = datasets.load_iris()\n",
    "X, y = iris.data, iris.target\n",
    "\n",
    "# Model Training\n",
    "clf = svm.SVC(gamma='scale')\n",
    "clf.fit(X, y)"
   ]
  },
  {
   "cell_type": "markdown",
   "metadata": {},
   "source": [
    "## Create a Prediction Service with BentoML\n",
    "\n",
    "Model serving with BentoML comes after a model is trained. The first step is creating a\n",
    "prediction service class, which defines the models required and the inference APIs which\n",
    "contains the serving logic. Here is a minimal prediction service created for serving\n",
    "the iris classifier model trained above:"
   ]
  },
  {
   "cell_type": "code",
   "execution_count": 3,
   "metadata": {},
   "outputs": [
    {
     "name": "stdout",
     "output_type": "stream",
     "text": [
      "Overwriting iris_classifier.py\n"
     ]
    }
   ],
   "source": [
    "%%writefile iris_classifier.py\n",
    "import pandas as pd\n",
    "\n",
    "from bentoml import env, artifacts, api, BentoService\n",
    "from bentoml.adapters import DataframeInput\n",
    "from bentoml.frameworks.sklearn import SklearnModelArtifact\n",
    "\n",
    "@env(infer_pip_packages=True)\n",
    "@artifacts([SklearnModelArtifact('model')])\n",
    "class IrisClassifier(BentoService):\n",
    "    \"\"\"\n",
    "    A minimum prediction service exposing a Scikit-learn model\n",
    "    \"\"\"\n",
    "\n",
    "    @api(input=DataframeInput(), batch=True)\n",
    "    def predict(self, df: pd.DataFrame):\n",
    "        \"\"\"\n",
    "        An inference API named `predict` with Dataframe input adapter, which codifies\n",
    "        how HTTP requests or CSV files are converted to a pandas Dataframe object as the\n",
    "        inference API function input\n",
    "        \"\"\"\n",
    "        return self.artifacts.model.predict(df)"
   ]
  },
  {
   "cell_type": "markdown",
   "metadata": {},
   "source": [
    "This code defines a prediction service that packages a scikit-learn model and provides\n",
    "an inference API that expects a `pandas.Dataframe` object as its input. BentoML also supports other API input \n",
    "data types including `JsonInput`, `ImageInput`, `FileInput` and \n",
    "[more](https://docs.bentoml.org/en/latest/api/adapters.html).\n",
    "\n",
    "\n",
    "In BentoML, **all inference APIs are suppose to accept a list of inputs and return a \n",
    "list of results**. In the case of `DataframeInput`, each row of the dataframe is mapping\n",
    "to one prediction request received from the client. BentoML will convert HTTP JSON \n",
    "requests into :code:`pandas.DataFrame` object before passing it to the user-defined \n",
    "inference API function.\n",
    " \n",
    "This design allows BentoML to group API requests into small batches while serving online\n",
    "traffic. Comparing to a regular flask or FastAPI based model server, this can increases\n",
    "the overall throughput of the API server by 10-100x depending on the workload.\n",
    "\n",
    "The following code packages the trained model with the prediction service class\n",
    "`IrisClassifier` defined above, and then saves the IrisClassifier instance to disk \n",
    "in the BentoML format for distribution and deployment:"
   ]
  },
  {
   "cell_type": "code",
   "execution_count": 4,
   "metadata": {},
   "outputs": [
    {
     "name": "stdout",
     "output_type": "stream",
     "text": [
      "[2020-10-05 13:05:33,636] INFO - BentoService bundle 'IrisClassifier:20201005130532_E6765A' saved to: /home/jovyan/bentoml/repository/IrisClassifier/20201005130532_E6765A\n"
     ]
    }
   ],
   "source": [
    "# import the IrisClassifier class defined above\n",
    "from iris_classifier import IrisClassifier\n",
    "\n",
    "# Create a iris classifier service instance\n",
    "iris_classifier_service = IrisClassifier()\n",
    "\n",
    "# Pack the newly trained model artifact\n",
    "iris_classifier_service.pack('model', clf)\n",
    "\n",
    "# Save the prediction service to disk for model serving\n",
    "saved_path = iris_classifier_service.save()"
   ]
  },
  {
   "cell_type": "markdown",
   "metadata": {},
   "source": [
    "BentoML stores all packaged model files under the\n",
    "`~/bentoml/{service_name}/{service_version}` directory by default.\n",
    "The BentoML file format contains all the code, files, and configs required to \n",
    "deploy the model for serving.\n"
   ]
  },
  {
   "cell_type": "markdown",
   "metadata": {},
   "source": [
    "## REST API Model Serving\n",
    "\n",
    "\n",
    "\n",
    "To start a REST API model server with the `IrisClassifier` saved above, use \n",
    "the `bentoml serve` command:"
   ]
  },
  {
   "cell_type": "code",
   "execution_count": null,
   "metadata": {},
   "outputs": [
    {
     "name": "stdout",
     "output_type": "stream",
     "text": [
      "[2020-10-01 12:44:04,719] INFO - Getting latest version IrisClassifier:20201001124400_7B642E\n",
      "[2020-10-01 12:44:04,720] INFO - Starting BentoML API server in development mode..\n",
      " * Serving Flask app \"IrisClassifier\" (lazy loading)\n",
      " * Environment: production\n",
      "\u001b[31m   WARNING: This is a development server. Do not use it in a production deployment.\u001b[0m\n",
      "\u001b[2m   Use a production WSGI server instead.\u001b[0m\n",
      " * Debug mode: off\n",
      " * Running on http://127.0.0.1:5000/ (Press CTRL+C to quit)\n",
      "[2020-10-01 12:49:33,095] INFO - {'service_name': 'IrisClassifier', 'service_version': '20201001124400_7B642E', 'api': 'predict', 'task': {'data': '[[5.1, 3.5, 1.4, 0.2]]', 'task_id': '9a39d97e-dd8a-460b-ba7e-534fde6e6ec4', 'batch': 1, 'http_headers': (('Host', '127.0.0.1:5000'), ('User-Agent', 'python-requests/2.24.0'), ('Accept-Encoding', 'gzip, deflate'), ('Accept', '*/*'), ('Connection', 'keep-alive'), ('Content-Length', '22'), ('Content-Type', 'application/json'))}, 'result': {'data': '[0]', 'http_status': 200, 'http_headers': (('Content-Type', 'application/json'),)}, 'request_id': '9a39d97e-dd8a-460b-ba7e-534fde6e6ec4'}\n",
      "127.0.0.1 - - [01/Oct/2020 12:49:33] \"\u001b[37mPOST /predict HTTP/1.1\u001b[0m\" 200 -\n",
      "[2020-10-01 13:11:51,257] INFO - {'service_name': 'IrisClassifier', 'service_version': '20201001124400_7B642E', 'api': 'predict', 'task': {'data': '[[5.1, 3.5, 1.4, 0.2]]', 'task_id': 'fe549c85-6d8d-4b38-9dcd-044b356811d1', 'batch': 1, 'http_headers': (('Host', '127.0.0.1:5000'), ('User-Agent', 'python-requests/2.24.0'), ('Accept-Encoding', 'gzip, deflate'), ('Accept', '*/*'), ('Connection', 'keep-alive'), ('Content-Length', '22'), ('Content-Type', 'application/json'))}, 'result': {'data': '[0]', 'http_status': 200, 'http_headers': (('Content-Type', 'application/json'),)}, 'request_id': 'fe549c85-6d8d-4b38-9dcd-044b356811d1'}\n",
      "127.0.0.1 - - [01/Oct/2020 13:11:51] \"\u001b[37mPOST /predict HTTP/1.1\u001b[0m\" 200 -\n",
      "127.0.0.1 - - [01/Oct/2020 13:41:07] \"\u001b[37mGET / HTTP/1.1\u001b[0m\" 200 -\n",
      "127.0.0.1 - - [01/Oct/2020 13:41:07] \"\u001b[37mGET /swagger_static/swagger-ui.css HTTP/1.1\u001b[0m\" 200 -\n",
      "127.0.0.1 - - [01/Oct/2020 13:41:07] \"\u001b[37mGET /swagger_static/swagger-ui-bundle.js HTTP/1.1\u001b[0m\" 200 -\n",
      "127.0.0.1 - - [01/Oct/2020 13:41:14] \"\u001b[37mGET /docs.json HTTP/1.1\u001b[0m\" 200 -\n",
      "127.0.0.1 - - [01/Oct/2020 13:41:16] \"\u001b[33mGET /favicon.ico HTTP/1.1\u001b[0m\" 404 -\n",
      "127.0.0.1 - - [01/Oct/2020 13:42:29] \"\u001b[31m\u001b[1mPOST /predict HTTP/1.1\u001b[0m\" 400 -\n",
      "[2020-10-01 13:42:41,590] INFO - {'service_name': 'IrisClassifier', 'service_version': '20201001124400_7B642E', 'api': 'predict', 'task': {'data': '[[5.1,3.5,1.4,0.2]]', 'task_id': 'ec746b13-ef8b-4f1a-8ec6-f7b5a4aa9a34', 'batch': 1, 'http_headers': (('Host', 'b0edaf299987.ngrok.io'), ('User-Agent', 'Mozilla/5.0 (Macintosh; Intel Mac OS X 10_15_7) AppleWebKit/537.36 (KHTML, like Gecko) Chrome/85.0.4183.121 Safari/537.36'), ('Content-Length', '19'), ('Accept', '*/*'), ('Accept-Encoding', 'gzip, deflate'), ('Accept-Language', 'en-US,en;q=0.9,hi;q=0.8'), ('Content-Type', 'application/json'), ('Origin', 'http://b0edaf299987.ngrok.io'), ('Referer', 'http://b0edaf299987.ngrok.io/'), ('X-Forwarded-For', '2409:4043:295:3f3e:24df:d3d5:92cc:2132'), ('X-Forwarded-Proto', 'http'))}, 'result': {'data': '[0]', 'http_status': 200, 'http_headers': (('Content-Type', 'application/json'),)}, 'request_id': 'ec746b13-ef8b-4f1a-8ec6-f7b5a4aa9a34'}\n",
      "127.0.0.1 - - [01/Oct/2020 13:42:41] \"\u001b[37mPOST /predict HTTP/1.1\u001b[0m\" 200 -\n",
      "127.0.0.1 - - [01/Oct/2020 13:47:02] \"\u001b[37mGET /metrics HTTP/1.1\u001b[0m\" 200 -\n",
      "127.0.0.1 - - [01/Oct/2020 13:47:15] \"\u001b[37mGET /healthz HTTP/1.1\u001b[0m\" 200 -\n",
      "127.0.0.1 - - [01/Oct/2020 13:49:06] \"\u001b[33mGET /robots.txt HTTP/1.1\u001b[0m\" 404 -\n",
      "127.0.0.1 - - [01/Oct/2020 13:49:06] \"\u001b[37mGET / HTTP/1.1\u001b[0m\" 200 -\n",
      "127.0.0.1 - - [01/Oct/2020 13:49:07] \"\u001b[37mGET /swagger_static/swagger-ui.css HTTP/1.1\u001b[0m\" 200 -\n",
      "127.0.0.1 - - [01/Oct/2020 13:49:07] \"\u001b[37mGET /swagger_static/swagger-ui-bundle.js HTTP/1.1\u001b[0m\" 200 -\n",
      "127.0.0.1 - - [01/Oct/2020 13:49:09] \"\u001b[37mGET /docs.json HTTP/1.1\u001b[0m\" 200 -\n",
      "127.0.0.1 - - [01/Oct/2020 13:49:09] \"\u001b[33mGET /favicon.ico HTTP/1.1\u001b[0m\" 404 -\n",
      "127.0.0.1 - - [01/Oct/2020 13:49:09] \"\u001b[37mGET / HTTP/1.1\u001b[0m\" 200 -\n",
      "127.0.0.1 - - [01/Oct/2020 13:49:09] \"\u001b[37mGET /swagger_static/swagger-ui.css HTTP/1.1\u001b[0m\" 200 -\n",
      "127.0.0.1 - - [01/Oct/2020 13:49:09] \"\u001b[37mGET /swagger_static/swagger-ui-bundle.js HTTP/1.1\u001b[0m\" 200 -\n",
      "127.0.0.1 - - [01/Oct/2020 13:49:10] \"\u001b[37mGET /docs.json HTTP/1.1\u001b[0m\" 200 -\n",
      "127.0.0.1 - - [01/Oct/2020 13:49:10] \"\u001b[33mGET /favicon.ico HTTP/1.1\u001b[0m\" 404 -\n",
      "[2020-10-01 13:51:09,414] INFO - {'service_name': 'IrisClassifier', 'service_version': '20201001124400_7B642E', 'api': 'predict', 'task': {'data': '[[5.1,3.5,1.4,0.2]]', 'task_id': '779c987b-0432-423d-80ee-12890b1ca9f7', 'batch': 1, 'http_headers': (('Host', 'b0edaf299987.ngrok.io'), ('User-Agent', 'Mozilla/5.0 (Macintosh; Intel Mac OS X 10_15_7) AppleWebKit/537.36 (KHTML, like Gecko) Chrome/85.0.4183.121 Safari/537.36'), ('Content-Length', '19'), ('Accept', '*/*'), ('Accept-Encoding', 'gzip, deflate'), ('Accept-Language', 'en-US,en;q=0.9,hi;q=0.8'), ('Content-Type', 'application/json'), ('Origin', 'http://b0edaf299987.ngrok.io'), ('Referer', 'http://b0edaf299987.ngrok.io/'), ('X-Forwarded-For', '2409:4043:295:3f3e:24df:d3d5:92cc:2132'), ('X-Forwarded-Proto', 'http'))}, 'result': {'data': '[0]', 'http_status': 200, 'http_headers': (('Content-Type', 'application/json'),)}, 'request_id': '779c987b-0432-423d-80ee-12890b1ca9f7'}\n",
      "127.0.0.1 - - [01/Oct/2020 13:51:09] \"\u001b[37mPOST /predict HTTP/1.1\u001b[0m\" 200 -\n",
      "[2020-10-01 13:51:16,937] INFO - {'service_name': 'IrisClassifier', 'service_version': '20201001124400_7B642E', 'api': 'predict', 'task': {'data': '[[51,3.5,1.4,0.2]]', 'task_id': '63575e07-7039-4c5e-8e1c-d49dab2b4a66', 'batch': 1, 'http_headers': (('Host', 'b0edaf299987.ngrok.io'), ('User-Agent', 'Mozilla/5.0 (Macintosh; Intel Mac OS X 10_15_7) AppleWebKit/537.36 (KHTML, like Gecko) Chrome/85.0.4183.121 Safari/537.36'), ('Content-Length', '18'), ('Accept', '*/*'), ('Accept-Encoding', 'gzip, deflate'), ('Accept-Language', 'en-US,en;q=0.9,hi;q=0.8'), ('Content-Type', 'application/json'), ('Origin', 'http://b0edaf299987.ngrok.io'), ('Referer', 'http://b0edaf299987.ngrok.io/'), ('X-Forwarded-For', '2409:4043:295:3f3e:24df:d3d5:92cc:2132'), ('X-Forwarded-Proto', 'http'))}, 'result': {'data': '[2]', 'http_status': 200, 'http_headers': (('Content-Type', 'application/json'),)}, 'request_id': '63575e07-7039-4c5e-8e1c-d49dab2b4a66'}\n",
      "127.0.0.1 - - [01/Oct/2020 13:51:16] \"\u001b[37mPOST /predict HTTP/1.1\u001b[0m\" 200 -\n",
      "127.0.0.1 - - [01/Oct/2020 13:57:09] \"\u001b[37mGET / HTTP/1.1\u001b[0m\" 200 -\n",
      "127.0.0.1 - - [01/Oct/2020 13:57:10] \"\u001b[37mGET /docs.json HTTP/1.1\u001b[0m\" 200 -\n",
      "127.0.0.1 - - [01/Oct/2020 13:57:12] \"\u001b[37mGET /docs.json HTTP/1.1\u001b[0m\" 200 -\n",
      "127.0.0.1 - - [01/Oct/2020 14:02:30] \"\u001b[37mGET /docs.json HTTP/1.1\u001b[0m\" 200 -\n",
      "[2020-10-01 14:03:09,315] INFO - {'service_name': 'IrisClassifier', 'service_version': '20201001124400_7B642E', 'api': 'predict', 'task': {'data': '[[5.1,3.5,1.4,0.2]]', 'task_id': '4d87d8d9-7137-4264-8057-7747f0f358d0', 'batch': 1, 'http_headers': (('Host', 'b0edaf299987.ngrok.io'), ('User-Agent', 'Mozilla/5.0 (Macintosh; Intel Mac OS X 10_15_7) AppleWebKit/537.36 (KHTML, like Gecko) Chrome/85.0.4183.121 Safari/537.36'), ('Content-Length', '19'), ('Accept', '*/*'), ('Accept-Encoding', 'gzip, deflate'), ('Accept-Language', 'en-US,en;q=0.9,hi;q=0.8'), ('Content-Type', 'application/json'), ('Origin', 'http://b0edaf299987.ngrok.io'), ('Referer', 'http://b0edaf299987.ngrok.io/'), ('X-Forwarded-For', '2409:4043:295:3f3e:24df:d3d5:92cc:2132'), ('X-Forwarded-Proto', 'http'))}, 'result': {'data': '[0]', 'http_status': 200, 'http_headers': (('Content-Type', 'application/json'),)}, 'request_id': '4d87d8d9-7137-4264-8057-7747f0f358d0'}\n",
      "127.0.0.1 - - [01/Oct/2020 14:03:09] \"\u001b[37mPOST /predict HTTP/1.1\u001b[0m\" 200 -\n",
      "127.0.0.1 - - [01/Oct/2020 14:04:47] \"\u001b[37mGET / HTTP/1.1\u001b[0m\" 200 -\n",
      "127.0.0.1 - - [01/Oct/2020 14:04:47] \"\u001b[37mGET /swagger_static/swagger-ui.css HTTP/1.1\u001b[0m\" 200 -\n",
      "127.0.0.1 - - [01/Oct/2020 14:04:47] \"\u001b[37mGET /swagger_static/swagger-ui-bundle.js HTTP/1.1\u001b[0m\" 200 -\n",
      "127.0.0.1 - - [01/Oct/2020 14:04:54] \"\u001b[37mGET /docs.json HTTP/1.1\u001b[0m\" 200 -\n",
      "127.0.0.1 - - [01/Oct/2020 14:04:54] \"\u001b[33mGET /favicon.ico HTTP/1.1\u001b[0m\" 404 -\n"
     ]
    }
   ],
   "source": [
    "!bentoml serve IrisClassifier:latest"
   ]
  },
  {
   "cell_type": "markdown",
   "metadata": {},
   "source": [
    "If you are running this notebook from Google Colab, you can start the dev server with `--run-with-ngrok` option, to gain acccess to the API endpoint via a public endpoint managed by [ngrok](https://ngrok.com/): "
   ]
  },
  {
   "cell_type": "code",
   "execution_count": 9,
   "metadata": {},
   "outputs": [
    {
     "name": "stdout",
     "output_type": "stream",
     "text": [
      "--2020-10-05 13:09:04--  https://bin.equinox.io/c/4VmDzA7iaHb/ngrok-stable-linux-amd64.zip\n",
      "Resolving bin.equinox.io (bin.equinox.io)... 54.227.160.247, 3.222.114.249, 34.193.208.150, ...\n",
      "Connecting to bin.equinox.io (bin.equinox.io)|54.227.160.247|:443... connected.\n",
      "HTTP request sent, awaiting response... 200 OK\n",
      "Length: 13773305 (13M) [application/octet-stream]\n",
      "Saving to: ‘ngrok-stable-linux-amd64.zip’\n",
      "\n",
      "ngrok-stable-linux- 100%[===================>]  13.13M  49.2MB/s    in 0.3s    \n",
      "\n",
      "2020-10-05 13:09:05 (49.2 MB/s) - ‘ngrok-stable-linux-amd64.zip’ saved [13773305/13773305]\n",
      "\n",
      "Archive:  ngrok-stable-linux-amd64.zip\n",
      "  inflating: ngrok                   \n"
     ]
    }
   ],
   "source": [
    "!wget https://bin.equinox.io/c/4VmDzA7iaHb/ngrok-stable-linux-amd64.zip && unzip ngrok-stable-linux-amd64.zip"
   ]
  },
  {
   "cell_type": "code",
   "execution_count": 10,
   "metadata": {},
   "outputs": [],
   "source": [
    "!chmod +x ngrok && sudo mv ngrok  /usr/local/bin"
   ]
  },
  {
   "cell_type": "code",
   "execution_count": 5,
   "metadata": {
    "scrolled": true
   },
   "outputs": [
    {
     "name": "stdout",
     "output_type": "stream",
     "text": [
      "[2020-10-05 13:05:46,133] INFO - Getting latest version IrisClassifier:20201005130532_E6765A\n",
      "[2020-10-05 13:05:46,134] INFO - Starting BentoML API server in development mode..\n",
      " * Serving Flask app \"IrisClassifier\" (lazy loading)\n",
      " * Environment: production\n",
      "\u001b[31m   WARNING: This is a development server. Do not use it in a production deployment.\u001b[0m\n",
      "\u001b[2m   Use a production WSGI server instead.\u001b[0m\n",
      " * Debug mode: off\n",
      " * Running on http://127.0.0.1:5000/ (Press CTRL+C to quit)\n",
      "\u001b7\u001b[?47h\u001b[?1h\u001b=\u0002\u0007\u001b[H\u001b[2J\u001b[m\u001b[38;5;6m\u001b[48;5;16m\u001b[1m\u001b[1;1Hngrok\u001b[m\u001b[38;5;16m\u001b[48;5;16m \u001b[m\u001b[38;5;7m\u001b[48;5;16mby\u001b[m\u001b[38;5;16m\u001b[48;5;16m \u001b[m\u001b[38;5;6m\u001b[48;5;16m\u001b[1m@inconshreveable\u001b[m\u001b[38;5;16m\u001b[48;5;16m                                       \u001b[m\u001b[38;5;7m\u001b[48;5;16m(Ctrl+C to quit)\u001b[m\u001b[38;5;16m\u001b[48;5;16m\u001b[2;1H                                                                                \u001b[m\u001b[38;5;6m\u001b[48;5;16m\u001b[3;1HSession Status                connecting\u001b[m\u001b[38;5;16m\u001b[48;5;16m                                        \u001b[m\u001b[38;5;7m\u001b[48;5;16m\u001b[4;1HVersion                       2.3.35\u001b[m\u001b[38;5;16m\u001b[48;5;16m                                            \u001b[m\u001b[38;5;7m\u001b[48;5;16m\u001b[5;1HRegion                        United States (us)\u001b[m\u001b[38;5;16m\u001b[48;5;16m                                \u001b[m\u001b[38;5;7m\u001b[48;5;16m\u001b[6;1HWeb Interface                 http://127.0.0.1:4040\u001b[m\u001b[38;5;16m\u001b[48;5;16m                             \u001b[7;1H                                                                                \u001b[m\u001b[38;5;7m\u001b[48;5;16m\u001b[8;1HConnections                   ttl     opn     rt1     rt5     p50     p90     \u001b[m\u001b[38;5;16m\u001b[48;5;16m  \u001b[m\u001b[38;5;7m\u001b[48;5;16m\u001b[9;1H                              0       0       0.00    0.00    0.00    0.00    \u001b[m\u001b[38;5;16m\u001b[48;5;16m  \u001b[10;1H                                                                                \u001b[11;1H                                                                                \u001b[12;1H                                                                                \u001b[13;1H                                                                                \u001b[14;1H                                                                                \u001b[15;1H                                                                                \u001b[16;1H                                                                                \u001b[17;1H                                                                                \u001b[18;1H                                                                                \u001b[19;1H                                                                                \u001b[20;1H                                                                                \u001b[21;1H                                                                                \u001b[22;1H                                                                                \u001b[23;1H                                                                                \u001b[24;1H                                                                                \u001b[m\u001b[38;5;2m\u001b[48;5;16m\u001b[3;1HSession Status                online\u001b[m\u001b[38;5;16m\u001b[48;5;16m    \u001b[m\u001b[38;5;7m\u001b[48;5;16m\u001b[4;1HAccount\u001b[4;31Hakashsengar96@gmail.com (Plan: Free)\u001b[5;1HV\u001b[5;3Hrsion\u001b[5;31H2.3.35\u001b[m\u001b[38;5;16m\u001b[48;5;16m            \u001b[m\u001b[38;5;7m\u001b[48;5;16m\u001b[6;1HR\u001b[6;3Hgio\u001b[6;7H       \u001b[6;31HUnited States (us)\u001b[m\u001b[38;5;16m\u001b[48;5;16m   \u001b[m\u001b[38;5;7m\u001b[48;5;16m\u001b[7;1HWeb Interface                 http://127.0.0.1:4040\u001b[8;1HF\u001b[8;3Hrward\u001b[8;9Hng \u001b[8;31Hh\u001b[8;33Htps://619015553576.ngrok.io\u001b[8;61H-> http://localhost:\u001b[m\u001b[38;5;16m\u001b[48;5;16m\u001b[9;1H                                                                              \u001b[m\u001b[38;5;7m\u001b[48;5;16m\u001b[10;1HConnections                   ttl     opn     rt1     rt5     p50     p90     \u001b[11;1H                              0       0       0.00    0.00    0.00    0.00    \u001b[8;35H:/\u001b[8;38H619015\u001b[8;46H3576.ngrok.io -> ht\u001b[8;66Hp:/\u001b[8;70Hlocalhost:5\u001b[9;1HForwarding                    https://619015553576.ngrok.io -> http://localhost:\u001b[m\u001b[38;5;16m\u001b[48;5;16m\u001b[10;1H                                                                              \u001b[m\u001b[38;5;7m\u001b[48;5;16m\u001b[11;1HConnections\u001b[11;31Httl\u001b[11;39Hopn\u001b[11;47Hrt1 \u001b[11;55Hrt5 \u001b[11;63Hp5\u001b[11;66H \u001b[11;71Hp9\u001b[11;74H \u001b[12;1H                              0       0       0.00    0.00    0.00    0.00    [2020-10-05 13:05:53,599] INFO -  * Running on http://619015553576.ngrok.io\n",
      "[2020-10-05 13:05:53,599] INFO -  * Traffic stats available on http://127.0.0.1:4040\n",
      "\u001b[12;39H1\u001b[14;1HHTTP Requests\u001b[15;1H-------------\u001b[17;1HGET\u001b[17;5H/127.0.0.1 - - [05/Oct/2020 13:06:00] \"\u001b[37mGET / HTTP/1.1\u001b[0m\" 200 -\n",
      "\u001b[17;32H200 OK\u001b[12;31H1\u001b[12;39H0\u001b[12;66H1\u001b[12;74H1\u001b[12;39H2\u001b[17;6Hswagger_static/swagger-ui-bundle.js\u001b[18;1HGET\u001b[18;5H/\u001b[18;42H200 OK\u001b[17;31H.css\u001b[m\u001b[38;5;16m\u001b[48;5;16m      \u001b[m\u001b[38;5;7m\u001b[48;5;16m\u001b[18;6Hswagger_static/swagger-ui-bundle.js\u001b[m\u001b[38;5;16m\u001b[48;5;16m\u001b[18;42H      \u001b[m\u001b[38;5;7m\u001b[48;5;16m\u001b[19;1HGET\u001b[19;5H/\u001b[19;42H200 OK127.0.0.1 - - [05/Oct/2020 13:06:00] \"\u001b[37mGET /swagger_static/swagger-ui-bundle.js HTTP/1.1\u001b[0m\" 200 -\n",
      "\u001b[18;42H200 OK127.0.0.1 - - [05/Oct/2020 13:06:00] \"\u001b[37mGET /swagger_static/swagger-ui.css HTTP/1.1\u001b[0m\" 200 -\n",
      "\u001b[17;42H200 OK\u001b[12;31H2\u001b[12;39H1\u001b[12;66H3\u001b[12;74H6\u001b[12;31H3\u001b[12;39H0\u001b[12;66H6\u001b[12;73H14\u001b[12;50H5\u001b[12;58H1\u001b[12;39H1\u001b[17;6Hdocs.json\u001b[m\u001b[38;5;16m\u001b[48;5;16m                    \u001b[17;42H      \u001b[m\u001b[38;5;7m\u001b[48;5;16m\u001b[18;31H.css\u001b[m\u001b[38;5;16m\u001b[48;5;16m      \u001b[m\u001b[38;5;7m\u001b[48;5;16m\u001b[19;6Hswagger_static/swagger-ui-bundle.js\u001b[20;1HGET\u001b[20;5H/\u001b[20;42H200 OK127.0.0.1 - - [05/Oct/2020 13:06:05] \"\u001b[37mGET /docs.json HTTP/1.1\u001b[0m\" 200 -\n",
      "\u001b[17;42H200 OK\u001b[12;31H4\u001b[12;39H0\u001b[12;66H3\u001b[12;39H1\u001b[17;6Hfavicon.ico\u001b[m\u001b[38;5;16m\u001b[48;5;16m\u001b[17;42H      \u001b[m\u001b[38;5;7m\u001b[48;5;16m\u001b[18;6Hdocs.json\u001b[m\u001b[38;5;16m\u001b[48;5;16m                    \u001b[m\u001b[38;5;7m\u001b[48;5;16m\u001b[19;31H.css\u001b[m\u001b[38;5;16m\u001b[48;5;16m      \u001b[m\u001b[38;5;7m\u001b[48;5;16m\u001b[20;6Hswagger_static/swagger-ui-bundle.js\u001b[21;1HGET\u001b[21;5H/\u001b[21;42H200 OK127.0.0.1 - - [05/Oct/2020 13:06:06] \"\u001b[33mGET /favicon.ico HTTP/1.1\u001b[0m\" 404 -\n",
      "\u001b[m\u001b[38;5;3m\u001b[48;5;16m\u001b[17;42H404 NOT FOUND\u001b[m\u001b[38;5;7m\u001b[48;5;16m\u001b[12;31H5\u001b[12;39H0\u001b[12;66H1\u001b[12;50H8\u001b[12;58H2\u001b[12;50H7\u001b[12;50H6\u001b[12;39H1\u001b[17;1HPOST\u001b[m\u001b[38;5;16m\u001b[48;5;16m \u001b[m\u001b[38;5;7m\u001b[48;5;16m/predict\u001b[m\u001b[38;5;16m\u001b[48;5;16m   \u001b[17;42H             \u001b[18;5H \u001b[m\u001b[38;5;7m\u001b[48;5;16m/favicon.ico\u001b[m\u001b[38;5;16m\u001b[48;5;16m\u001b[18;42H \u001b[m\u001b[38;5;3m\u001b[48;5;16m404 NOT FOUND\u001b[m\u001b[38;5;16m\u001b[48;5;16m\u001b[19;5H \u001b[m\u001b[38;5;7m\u001b[48;5;16m/docs.json\u001b[m\u001b[38;5;16m\u001b[48;5;16m                   \u001b[19;42H \u001b[m\u001b[38;5;7m\u001b[48;5;16m2\u001b[19;45H0 OK\u001b[m\u001b[38;5;16m\u001b[48;5;16m\u001b[20;5H \u001b[m\u001b[38;5;7m\u001b[48;5;16m/swa\u001b[20;11Hger_static/swa\u001b[20;26Hger-ui.css\u001b[m\u001b[38;5;16m\u001b[48;5;16m     \u001b[20;42H \u001b[m\u001b[38;5;7m\u001b[48;5;16m2\u001b[20;45H0 OK\u001b[m\u001b[38;5;16m\u001b[48;5;16m\u001b[21;5H \u001b[m\u001b[38;5;7m\u001b[48;5;16m/swagger_static/swagger-ui-bundle.js\u001b[m\u001b[38;5;16m\u001b[48;5;16m \u001b[m\u001b[38;5;7m\u001b[48;5;16m2\u001b[21;45H0 OK\u001b[22;1HGET\u001b[22;6H/\u001b[22;43H200 OK[2020-10-05 13:06:24,766] INFO - {'service_name': 'IrisClassifier', 'service_version': '20201005130532_E6765A', 'api': 'predict', 'task': {'data': '[[0,23,231,12]]', 'task_id': '1e5ec09e-27c7-455f-8a4d-97708e53723b', 'batch': 1, 'http_headers': (('Host', '619015553576.ngrok.io'), ('User-Agent', 'Mozilla/5.0 (Macintosh; Intel Mac OS X 10_15_7) AppleWebKit/537.36 (KHTML, like Gecko) Chrome/85.0.4183.121 Safari/537.36'), ('Content-Length', '15'), ('Accept', '*/*'), ('Accept-Encoding', 'gzip, deflate, br'), ('Accept-Language', 'en-US,en;q=0.9,hi;q=0.8'), ('Content-Type', 'application/json'), ('Origin', 'https://619015553576.ngrok.io'), ('Referer', 'https://619015553576.ngrok.io/'), ('Sec-Fetch-Dest', 'empty'), ('Sec-Fetch-Mode', 'cors'), ('Sec-Fetch-Site', 'same-origin'), ('X-Forwarded-For', '2405:204:33ae:cfc8:e81a:6322:bd21:ea76'), ('X-Forwarded-Proto', 'https'))}, 'result': {'data': '[2]', 'http_status': 200, 'http_headers': (('Content-Type', 'application/json'),)}, 'request_id': '1e5ec09e-27c7-455f-8a4d-97708e53723b'}\n",
      "127.0.0.1 - - [05/Oct/2020 13:06:24] \"\u001b[37mPOST /predict HTTP/1.1\u001b[0m\" 200 -\n",
      "\u001b[17;43H200 OK\u001b[12;31H6\u001b[12;39H0\u001b[12;66H2\u001b[12;50H7\u001b[12;50H6\u0002\u0007\u001b[m\u001b[H\u001b[2J\u001b[2J\u001b[?47l\u001b8\u001b[?1l\u001b>\u001b[?1006l\u001b[?1015l\u001b[?1002l\u001b[?1000l"
     ]
    }
   ],
   "source": [
    "!bentoml serve IrisClassifier:latest --run-with-ngrok"
   ]
  },
  {
   "cell_type": "markdown",
   "metadata": {},
   "source": [
    "The `IrisClassifier` model is now served at `localhost:5000`. Use `curl` command to send\n",
    "a prediction request:\n",
    "\n",
    "```bash\n",
    "curl -i \\\n",
    "--header \"Content-Type: application/json\" \\\n",
    "--request POST \\\n",
    "--data '[[5.1, 3.5, 1.4, 0.2]]' \\\n",
    "localhost:5000/predict\n",
    "```\n",
    "\n",
    "Or with `python` and [request library](https://requests.readthedocs.io/):\n",
    "```python\n",
    "import requests\n",
    "response = requests.post(\"http://127.0.0.1:5000/predict\", json=[[5.1, 3.5, 1.4, 0.2]])\n",
    "print(response.text)\n",
    "```\n",
    "\n",
    "Note that BentoML API server automatically converts the Dataframe JSON format into a\n",
    "`pandas.DataFrame` object before sending it to the user-defined inference API function.\n",
    "\n",
    "The BentoML API server also provides a simple web UI dashboard.\n",
    "Go to http://localhost:5000 in the browser and use the Web UI to send\n",
    "prediction request:\n",
    "\n",
    "![BentoML API Server Web UI Screenshot](https://raw.githubusercontent.com/bentoml/BentoML/master/guides/quick-start/bento-api-server-web-ui.png)"
   ]
  }
 ],
 "metadata": {
  "kernelspec": {
   "display_name": "Python 3",
   "language": "python",
   "name": "python3"
  },
  "language_info": {
   "codemirror_mode": {
    "name": "ipython",
    "version": 3
   },
   "file_extension": ".py",
   "mimetype": "text/x-python",
   "name": "python",
   "nbconvert_exporter": "python",
   "pygments_lexer": "ipython3",
   "version": "3.7.7"
  }
 },
 "nbformat": 4,
 "nbformat_minor": 4
}
